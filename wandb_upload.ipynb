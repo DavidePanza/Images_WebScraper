{
  "nbformat": 4,
  "nbformat_minor": 0,
  "metadata": {
    "colab": {
      "provenance": [],
      "authorship_tag": "ABX9TyNUIRTAMcK8/sAuMhlEhvPw",
      "include_colab_link": true
    },
    "kernelspec": {
      "name": "python3",
      "display_name": "Python 3"
    },
    "language_info": {
      "name": "python"
    }
  },
  "cells": [
    {
      "cell_type": "markdown",
      "metadata": {
        "id": "view-in-github",
        "colab_type": "text"
      },
      "source": [
        "<a href=\"https://colab.research.google.com/github/DavidePanza/Images_WebScraper/blob/main/wandb_upload.ipynb\" target=\"_parent\"><img src=\"https://colab.research.google.com/assets/colab-badge.svg\" alt=\"Open In Colab\"/></a>"
      ]
    },
    {
      "cell_type": "markdown",
      "source": [
        "# Set Up"
      ],
      "metadata": {
        "id": "uR7cTU0k_1AS"
      }
    },
    {
      "cell_type": "code",
      "source": [
        "!pip install fiftyone\n",
        "!pip install wandb\n",
        "\n",
        "import os\n",
        "import fiftyone as fo\n",
        "import fiftyone.zoo as foz\n",
        "import wandb\n",
        "import numpy as np\n",
        "from google.colab import drive\n",
        "from google.colab import userdata\n",
        "\n",
        "drive.mount('/gdrive')"
      ],
      "metadata": {
        "id": "fvd0uufQ_1Kb"
      },
      "execution_count": null,
      "outputs": []
    },
    {
      "cell_type": "markdown",
      "source": [
        "# Initialise"
      ],
      "metadata": {
        "id": "KkW1qyZ_panL"
      }
    },
    {
      "cell_type": "code",
      "source": [
        "wandb_api_key = userdata.get('wanddb_api')"
      ],
      "metadata": {
        "id": "YvWj1n_eHNYh"
      },
      "execution_count": 3,
      "outputs": []
    },
    {
      "cell_type": "code",
      "source": [
        "try:\n",
        "    wandb.login(key=userdata.get('wanddb_api'))\n",
        "except:\n",
        "    print(\"Please add WANDB_API_KEY to Colab secrets\")\n",
        "    wandb.login()"
      ],
      "metadata": {
        "id": "fDatZil0CtT3"
      },
      "execution_count": null,
      "outputs": []
    },
    {
      "cell_type": "markdown",
      "source": [
        "# Upload Images"
      ],
      "metadata": {
        "id": "fw7lhtu1pdG1"
      }
    },
    {
      "cell_type": "code",
      "source": [
        "# Initialize a W&B run (replace with your team/project)\n",
        "run = wandb.init(project=\"jaguars\", entity=\"jaguars\")\n",
        "\n",
        "# --- Upload cropped_body ---\n",
        "artifact1 = wandb.Artifact(\n",
        "    name=\"cropped_bodies_images\",\n",
        "    type=\"dataset\",\n",
        "    description=\"Cropped jaguar bodies\"\n",
        ")\n",
        "artifact1.add_dir(\"/gdrive/MyDrive/DSR/Jaguars_Project/images/cropped_body\")\n",
        "run.log_artifact(artifact1)\n",
        "\n",
        "\n",
        "# --- Upload segmented_body ---\n",
        "artifact2 = wandb.Artifact(\n",
        "    name=\"segmented_bodies_images\",\n",
        "    type=\"dataset\",\n",
        "    description=\"Cropped jaguar bodies with segmentation\"\n",
        ")\n",
        "artifact2.add_dir(\"/gdrive/MyDrive/DSR/Jaguars_Project/images/segmented_body\")\n",
        "run.log_artifact(artifact2)\n",
        "\n",
        "\n",
        "# --- Upload cropped_head ---\n",
        "artifact3 = wandb.Artifact(\n",
        "    name=\"cropped_heads_images\",\n",
        "    type=\"dataset\",\n",
        "    description=\"Cropped jaguar heads\"\n",
        ")\n",
        "artifact3.add_dir(\"/gdrive/MyDrive/DSR/Jaguars_Project/images/cropped_head\")\n",
        "run.log_artifact(artifact3)\n",
        "\n",
        "\n",
        "# --- Upload segmented_head ---\n",
        "artifact4 = wandb.Artifact(\n",
        "    name=\"segmented_heads_images\",\n",
        "    type=\"dataset\",\n",
        "    description=\"Cropped jaguar heads with segmentation\"\n",
        ")\n",
        "artifact4.add_dir(\"/gdrive/MyDrive/DSR/Jaguars_Project/images/segmented_head\")\n",
        "run.log_artifact(artifact4)\n",
        "\n",
        "\n",
        "# Finish the run\n",
        "run.finish()"
      ],
      "metadata": {
        "id": "jjDOkXqOpf5S"
      },
      "execution_count": null,
      "outputs": []
    },
    {
      "cell_type": "markdown",
      "source": [
        "# Upload Dataset"
      ],
      "metadata": {
        "id": "3ice8MezphFG"
      }
    },
    {
      "cell_type": "code",
      "source": [
        "run = wandb.init(\n",
        "    entity=\"jaguars\",\n",
        "    project=\"jaguars\",\n",
        "    dir=\"/content/wandb\",\n",
        "    settings=wandb.Settings(start_method=\"thread\")\n",
        ")"
      ],
      "metadata": {
        "id": "K_9bF9rfCtXA"
      },
      "execution_count": null,
      "outputs": []
    },
    {
      "cell_type": "code",
      "source": [
        "# Create W&B artifact\n",
        "artifact = wandb.Artifact(\n",
        "    name=\"jaguar_fo_dataset\",\n",
        "    type=\"dataset\",\n",
        "    description=\"dataset containing bboxes, segmentations, and dino2 embeddings\"\n",
        ")\n",
        "\n",
        "drive_export_dir = '/gdrive/MyDrive/DSR/Jaguars_Project/datasets/dataset_v9'\n",
        "\n",
        "# Add the existing export directory\n",
        "artifact.add_dir(drive_export_dir)\n",
        "\n",
        "# # Add embeddings if they exist separately\n",
        "# embedding_path = f\"{drive_export_dir}/embeddings.npy\"\n",
        "# if os.path.exists(embedding_path):\n",
        "#     artifact.add_file(embedding_path)\n",
        "# else:\n",
        "#     print(\"No existing embeddings found - add them separately if needed\")\n",
        "\n",
        "# (6) Finalize\n",
        "wandb.log_artifact(artifact)"
      ],
      "metadata": {
        "id": "6_uFHofn-8qq"
      },
      "execution_count": null,
      "outputs": []
    },
    {
      "cell_type": "code",
      "source": [
        "wandb.finish()"
      ],
      "metadata": {
        "id": "mdpN59T8DGUP"
      },
      "execution_count": null,
      "outputs": []
    }
  ]
}